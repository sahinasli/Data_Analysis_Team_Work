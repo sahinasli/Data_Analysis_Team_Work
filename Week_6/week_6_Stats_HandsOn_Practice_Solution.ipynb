{
  "cells": [
    {
      "cell_type": "markdown",
      "id": "ae20fc9b",
      "metadata": {
        "id": "ae20fc9b"
      },
      "source": [
        "___\n",
        "\n",
        "<a href=\"https://lms.clarusway.com/mod/lesson/view.php?id=8511&pageid=8142&startlastseen=no\"><img align=\"left\" src=\"https://i.ibb.co/6Z5pQxD/lmss.png\" alt=\"Open in Clarusway LMS\" width=\"70\" height=\"200\" title=\"Open Clarusway Learning Management Sytem\"></a>\n",
        "\n",
        "<a href=\"\"><img align=\"right\" src=\"https://i.ibb.co/n3HWyQX/github-logo.png\" alt=\"Open in Clarusway GitHub\" width=\"100\" height=\"150\" title=\"Open and Execute in Clarusway GitHub Repository\"></a>\n",
        "\n",
        "<p style=\"text-align: center;\"><img src=\"https://docs.google.com/uc?id=1lY0Uj5R04yMY3-ZppPWxqCr5pvBLYPnV\" class=\"img-fluid\"\n",
        "alt=\"CLRSWY\"></p>\n",
        "\n",
        "## <p style=\"background-color:#FDFEFE; font-family:newtimeroman; color:#9d4f8c; font-size:100%; text-align:center; border-radius:10px 10px;\">WAY TO REINVENT YOURSELF</p>"
      ]
    },
    {
      "cell_type": "markdown",
      "id": "6047d7b2",
      "metadata": {
        "id": "6047d7b2"
      },
      "source": [
        "# Central Limit Theorem (CLT):\n",
        "\n",
        "The Central Limit Theorem is a fundamental concept in statistics that describes the behavior of the distribution of sample means for a large enough sample size, regardless of the original distribution of the population.\n",
        "\n",
        "**Key Points:**\n",
        "\n",
        "**1. Large Enough Sample:**\n",
        "\n",
        "The Central Limit Theorem applies when you have a sufficiently large sample size. Though there isn't a strict rule, a common guideline is a sample size of at least 30. However, for some distributions, you might need a larger sample size.\n",
        "\n",
        "**2. Regardless of Population Distribution:**\n",
        "\n",
        "It doesn't matter what the shape of the population distribution is initially. The Central Limit Theorem asserts that as long as the sample size is large enough, the distribution of the sample means will be approximately normally distributed.\n",
        "\n",
        "**3. Normal Distribution of Sample Means:**\n",
        "\n",
        "The theorem states that, for a large sample size, the distribution of the sample means will be approximately normal, even if the population distribution is not normal.\n",
        "\n",
        "**4. Mean and Standard Deviation:**\n",
        "\n",
        "The mean of the sample means will be equal to the population mean, and the standard deviation of the sample means (standard error) will be equal to the population standard deviation divided by the square root of the sample size.\n",
        "\n",
        "**Why is it Important:**\n",
        "\n",
        "- **Statistical Inference:**\n",
        "\n",
        "The Central Limit Theorem is crucial for statistical inference. It allows us to make inferences about population parameters using sample statistics, particularly when we're dealing with the mean.\n",
        "\n",
        "- **Normal Distribution Simplification:**\n",
        "\n",
        "The normal distribution is mathematically convenient and well understood. The CLT allows us to treat the distribution of sample means as normal, making statistical analysis more straightforward.\n",
        "\n",
        "**Example:**\n",
        "\n",
        "Imagine you're measuring the heights of people in a population. The distribution of individual heights might not be normal, but if you take many random samples of, let's say, 30 people each and calculate the mean height for each sample, the distribution of those sample means will be approximately normal, according to the Central Limit Theorem.\n",
        "\n",
        "In summary, the Central Limit Theorem is a powerful tool in statistics that allows us to make certain assumptions and draw conclusions about populations based on the distribution of sample means, making statistical analysis more practical and applicable in real-world situations."
      ]
    },
    {
      "cell_type": "markdown",
      "id": "4ca5e664",
      "metadata": {
        "id": "4ca5e664"
      },
      "source": [
        "## Question\n",
        "    \n",
        "You are given a population dataset with the heights of individuals. The mean height is 65 inches, and the standard deviation is 4 inches. A random sample of 100 individuals is taken from this population. Calculate the probability that the mean height of this sample is less than 64 inches."
      ]
    },
    {
      "cell_type": "code",
      "execution_count": null,
      "id": "4b2e3eb0",
      "metadata": {
        "id": "4b2e3eb0"
      },
      "outputs": [],
      "source": [
        "import numpy as np\n",
        "import scipy.stats as stats\n",
        "\n",
        "# Given data\n",
        "population_mean = 65\n",
        "population_std_dev = 4\n",
        "sample_size = 100\n",
        "sample_mean = population_mean  # The sample mean is equal to the population mean for the central limit theorem"
      ]
    },
    {
      "cell_type": "code",
      "execution_count": null,
      "id": "252c76e3",
      "metadata": {
        "id": "252c76e3"
      },
      "outputs": [],
      "source": [
        "# Calculate the sample's standart deviation\n",
        "\n",
        "sample_std_dev = population_std_dev / np.sqrt(sample_size)"
      ]
    },
    {
      "cell_type": "code",
      "execution_count": null,
      "id": "15e5cc1f",
      "metadata": {
        "id": "15e5cc1f",
        "outputId": "1727548a-8452-4480-b9fc-1757ca8faeee"
      },
      "outputs": [
        {
          "name": "stdout",
          "output_type": "stream",
          "text": [
            "z_score is: -2.5000\n"
          ]
        }
      ],
      "source": [
        "# Calculate the z-score\n",
        "\n",
        "z_score = (64 - sample_mean) / sample_std_dev\n",
        "print(f\"z_score is: {z_score:.4f}\")"
      ]
    },
    {
      "cell_type": "code",
      "execution_count": null,
      "id": "8ff362f5",
      "metadata": {
        "id": "8ff362f5",
        "outputId": "7b164111-7867-4372-fac1-61d70c521652"
      },
      "outputs": [
        {
          "name": "stdout",
          "output_type": "stream",
          "text": [
            "The probability that the mean height is less than 64 inches is: 0.0062\n"
          ]
        }
      ],
      "source": [
        "# Use the cumulative distribution function (CDF) to find the probability\n",
        "\n",
        "probability = stats.norm.cdf(z_score)\n",
        "print(f\"The probability that the mean height is less than 64 inches is: {probability:.4f}\")"
      ]
    },
    {
      "cell_type": "markdown",
      "id": "43a49e4f",
      "metadata": {
        "id": "43a49e4f"
      },
      "source": [
        "**Explanation:**\n",
        "\n",
        "1. We calculate the standard deviation of the sample mean using the formula:\n",
        "\n",
        "sample_std_dev = population_std_dev / (sqrt(sample\\_size))\n",
        "\n",
        "2. The z-score is calculated using the formula:\n",
        "\n",
        "![image.png](attachment:image.png)\n",
        "\n",
        "where X is the value we're interested in (64 inches in this case).\n",
        "\n",
        "3. Finally, we use the cumulative distribution function (CDF) of the standard normal distribution to find the probability that the sample mean is less than 64 inches."
      ]
    },
    {
      "cell_type": "markdown",
      "id": "53966efc",
      "metadata": {
        "id": "53966efc"
      },
      "source": [
        "# Confidence intervals\n",
        "\n",
        "A confidence interval is a statistical tool used to estimate the range in which we are reasonably confident that a population parameter, such as the mean, is likely to lie. It provides a range of values rather than a single point estimate, offering a measure of the uncertainty associated with our estimation.\n",
        "\n",
        "**Key Points:**\n",
        "\n",
        "**1. Point Estimate:**\n",
        "\n",
        "A point estimate is a single value (like the sample mean) that serves as the best guess for the population parameter. However, it doesn't convey the entire picture of uncertainty.\n",
        "\n",
        "**2. Margin of Error:**\n",
        "\n",
        "The confidence interval consists of a point estimate and a margin of error. The margin of error is influenced by the variability in the data and the desired level of confidence.\n",
        "\n",
        "**3. Level of Confidence:**\n",
        "\n",
        "The level of confidence represents the probability that the interval will contain the true population parameter. Common levels are 95%, 90%, or 99%. A 95% confidence interval, for example, implies that if we were to take many samples and construct intervals in the same way, we expect about 95% of those intervals to contain the true parameter.\n",
        "\n",
        "**4. Calculation:**\n",
        "\n",
        "The formula for a confidence interval is:\n",
        "\n",
        "Confidence Interval = Point Estimate ± Margin of Error\n",
        "\n",
        "The margin of error is typically determined using critical values from a standard normal distribution or a t-distribution, depending on the sample size.\n",
        "\n",
        "**Why are Confidence Intervals Important:**\n",
        "\n",
        "- **Uncertainty:**\n",
        "\n",
        "They convey the uncertainty inherent in statistical estimates. Instead of providing a single, potentially misleading number, confidence intervals give a range that is likely to contain the true parameter.\n",
        "\n",
        "- **Comparisons:**\n",
        "\n",
        "They allow for meaningful comparisons between different groups or conditions. Knowing that two confidence intervals don't overlap, for example, might suggest a significant difference between the groups.\n",
        "\n",
        "- **Decision Making:**\n",
        "\n",
        "They aid in decision-making by providing a sense of the precision of our estimates. Wider intervals suggest greater uncertainty, while narrower intervals suggest more precise estimates.\n",
        "\n",
        "**Example:**\n",
        "\n",
        "Suppose you're estimating the average height of a population. You calculate a 95% confidence interval of (65 inches, 67 inches). This means you are 95% confident that the true average height of the population falls within this range. The point estimate is the midpoint (66 inches), and the margin of error is\n",
        "\n",
        "(67 − 65) / 2 = 1 inch.\n",
        "\n",
        "In essence, confidence intervals provide a more nuanced and informative way to report estimates, acknowledging the inherent variability in data and the level of confidence we have in our estimates."
      ]
    },
    {
      "cell_type": "markdown",
      "id": "0891738b",
      "metadata": {
        "id": "0891738b"
      },
      "source": [
        "## Question\n",
        "\n",
        "You are conducting a study on the scores of students in a standardized test. From a sample of 50 students, the mean score is found to be 72, and the standard deviation is 5. Calculate a 95% confidence interval for the true mean score of all students."
      ]
    },
    {
      "cell_type": "code",
      "execution_count": null,
      "id": "bc377c7f",
      "metadata": {
        "id": "bc377c7f"
      },
      "outputs": [],
      "source": [
        "import numpy as np\n",
        "import scipy.stats as stats\n",
        "\n",
        "# Given data\n",
        "sample_size = 50\n",
        "sample_mean = 72\n",
        "sample_std_dev = 5\n",
        "confidence_level = 0.95"
      ]
    },
    {
      "cell_type": "code",
      "execution_count": null,
      "id": "a620e573",
      "metadata": {
        "id": "a620e573",
        "outputId": "d58fe9dc-cf5f-45d2-c0b4-c521befb46fc"
      },
      "outputs": [
        {
          "name": "stdout",
          "output_type": "stream",
          "text": [
            "standard_error is: 0.7071\n"
          ]
        }
      ],
      "source": [
        "# Calculate the standard error of the mean (SEM)\n",
        "\n",
        "standard_error = sample_std_dev / np.sqrt(sample_size)\n",
        "print(f\"standard_error is: {standard_error:.4f}\")"
      ]
    },
    {
      "cell_type": "code",
      "execution_count": null,
      "id": "994ce8e7",
      "metadata": {
        "id": "994ce8e7",
        "outputId": "a8383480-6516-4e91-c01b-284756f7c3d0"
      },
      "outputs": [
        {
          "name": "stdout",
          "output_type": "stream",
          "text": [
            "margin_of_error is: 1.3859\n"
          ]
        }
      ],
      "source": [
        "# Calculate the margin of error (MOE)\n",
        "\n",
        "margin_of_error = stats.norm.ppf((1 + confidence_level) / 2) * standard_error\n",
        "print(f\"margin_of_error is: {margin_of_error:.4f}\")"
      ]
    },
    {
      "cell_type": "code",
      "execution_count": null,
      "id": "fdfec4c7",
      "metadata": {
        "id": "fdfec4c7",
        "outputId": "68245819-415b-41a9-db49-f24190c624ce"
      },
      "outputs": [
        {
          "name": "stdout",
          "output_type": "stream",
          "text": [
            "The 95% confidence interval is: (70.61, 73.39)\n"
          ]
        }
      ],
      "source": [
        "# Calculate the confidence interval\n",
        "\n",
        "lower_bound = sample_mean - margin_of_error\n",
        "upper_bound = sample_mean + margin_of_error\n",
        "\n",
        "print(f\"The 95% confidence interval is: ({lower_bound:.2f}, {upper_bound:.2f})\")"
      ]
    },
    {
      "cell_type": "markdown",
      "id": "e90d2181",
      "metadata": {
        "id": "e90d2181"
      },
      "source": [
        "**Explanation:**\n",
        "\n",
        "1. The standard error of the mean (SEM) is calculated as\n",
        "\n",
        "standard_error = sample_std_dev / sqrt(sample_size\n",
        "\n",
        "2. The margin of error (MOE) is determined using the z-score corresponding to the desired confidence level. For a 95% confidence interval, the z-score is approximately 1.96. The formula for MOE is\n",
        "\n",
        "MOE = z-score × standard_error\n",
        "\n",
        "3. The confidence interval is then calculated as\n",
        "\n",
        "lower_bound = sample_mean − MOE\n",
        "\n",
        "upper_bound = sample_mean + MOE\n",
        "\n",
        "This confidence interval represents the range within which we are 95% confident that the true mean score of all students lies."
      ]
    },
    {
      "cell_type": "markdown",
      "id": "c564035b",
      "metadata": {
        "id": "c564035b"
      },
      "source": [
        "# One-Sample t-test\n",
        "\n",
        "The one-sample t-test is a statistical test used to determine whether the mean of a single sample is significantly different from a known or hypothesized population mean. Here's a brief explanation:\n",
        "\n",
        "**Objective:**\n",
        "\n",
        "Assess whether the sample mean is significantly different from a hypothesized population mean.\n",
        "\n",
        "**Steps:**\n",
        "\n",
        "- **1. State Hypotheses:**\n",
        "\n",
        "    - Null Hypothesis (Ho): The population mean is equal to a specified value (μ=hypothesized value)\n",
        "    - Alternative Hypothesis (Ha): The population mean is not equal to the specified value.\n",
        "\n",
        "- **2. Collect Data:**\n",
        "\n",
        "    - Gather a sample from the population of interest.\n",
        "\n",
        "- **3. Calculate the t-Statistic:**\n",
        "\n",
        "    - Use the formula  t = (x_bar - mu)/(s/sqrt(n))\n",
        "\n",
        "    - where x_bar is the sample mean, μ is the hypothesized population mean, s is the sample standard deviation, and n is the sample size.\n",
        "\n",
        "- **4. Determine Degrees of Freedom:**\n",
        "\n",
        "    - Degrees of freedom (df) is equal to the sample size minus one (df=n−1).\n",
        "\n",
        "- **5. Choose Significance Level (α):**\n",
        "\n",
        "    - Commonly chosen values are 0.05 or 0.01.\n",
        "\n",
        "- **6. Calculate Critical t-Values:**\n",
        "\n",
        "    - Use a t-table or statistical software to find the critical t-values based on the chosen significance level and degrees of freedom.\n",
        "\n",
        "- **7. Make Decision:**\n",
        "\n",
        "    - If the absolute value of the calculated t-statistic is greater than the critical t-value, reject the null hypothesis.\n",
        "    - If the p-value is less than the chosen significance level, reject the null hypothesis.\n",
        "\n",
        "- **8. Draw Conclusion:**\n",
        "\n",
        "    - Conclude whether there is enough evidence to reject the null hypothesis and accept the alternative hypothesis.\n",
        "\n",
        "The one-sample t-test is commonly used in various fields to compare a sample mean to a known or hypothesized population mean, providing a way to assess whether any observed differences are statistically significant."
      ]
    },
    {
      "cell_type": "markdown",
      "id": "9d779b1f",
      "metadata": {
        "id": "9d779b1f"
      },
      "source": [
        "## Question-1\n",
        "\n",
        "Suppose you have a sample of 30 students, and you want to test whether their average score is significantly different from the population mean of 75. Perform a one-sample t-test at a significance level of 0.05."
      ]
    },
    {
      "cell_type": "code",
      "execution_count": null,
      "id": "281005c1",
      "metadata": {
        "id": "281005c1"
      },
      "outputs": [],
      "source": [
        "import numpy as np\n",
        "import scipy.stats as stats\n",
        "\n",
        "# Given data\n",
        "sample_size = 30\n",
        "sample_mean = 72  # Assume the sample mean is 72 for this example\n",
        "population_mean = 75\n",
        "significance_level = 0.05"
      ]
    },
    {
      "cell_type": "code",
      "execution_count": null,
      "id": "f7623cbd",
      "metadata": {
        "id": "f7623cbd",
        "outputId": "16cd6b35-082d-4cbc-bce9-b8e3e0f0d0a5"
      },
      "outputs": [
        {
          "name": "stdout",
          "output_type": "stream",
          "text": [
            "t_statistic is: (-4.35164)\n",
            "p_value is: (0.00015)\n"
          ]
        }
      ],
      "source": [
        "# Calculate the t-statistic and p_value\n",
        "\n",
        "t_statistic, p_value = stats.ttest_1samp(np.random.normal(sample_mean, 5, sample_size), population_mean)\n",
        "print(f\"t_statistic is: ({t_statistic:.5f})\")\n",
        "print(f\"p_value is: ({p_value:.5f})\")"
      ]
    },
    {
      "cell_type": "code",
      "execution_count": null,
      "id": "8a8737f7",
      "metadata": {
        "id": "8a8737f7",
        "outputId": "33c344d4-3cbb-4897-d326-7316859d4145"
      },
      "outputs": [
        {
          "name": "stdout",
          "output_type": "stream",
          "text": [
            "Null hypothesis rejected. The average score is significantly different from the population mean.\n"
          ]
        }
      ],
      "source": [
        "# Check if the result is statistically significant\n",
        "\n",
        "if p_value < significance_level:\n",
        "    print(\"Null hypothesis rejected. The average score is significantly different from the population mean.\")\n",
        "else:\n",
        "    print(\"Null hypothesis not rejected. There is not enough evidence to suggest a significant difference.\")"
      ]
    },
    {
      "cell_type": "markdown",
      "id": "643dc0de",
      "metadata": {
        "id": "643dc0de"
      },
      "source": [
        "**Explanation:**\n",
        "\n",
        "- We use the ttest_1samp function from scipy.stats to perform a one-sample t-test.\n",
        "- The null hypothesis is that the sample mean is equal to the population mean (mean = 75).\n",
        "- The p-value is compared to the significance level, and if it's less than the significance level, we reject the null hypothesis."
      ]
    },
    {
      "cell_type": "markdown",
      "id": "82382b5c",
      "metadata": {
        "id": "82382b5c"
      },
      "source": [
        "## Question-2\n",
        "\n",
        "Let's say you work for a company that produces light bulbs, and they claim that the average lifespan of their bulbs is 1000 hours. You decide to test this claim by taking a sample of 25 bulbs and recording their lifespans. The sample has a mean lifespan of 980 hours with a standard deviation of 50 hours.\n",
        "\n",
        "\n",
        "Is there enough evidence to support the company's claim that the average lifespan of their light bulbs is 1000 hours?"
      ]
    },
    {
      "cell_type": "code",
      "execution_count": null,
      "id": "3d1eafd9",
      "metadata": {
        "id": "3d1eafd9"
      },
      "outputs": [],
      "source": [
        "# First way\n",
        "\n",
        "# State the Hypothesis:\n",
        "\n",
        "#- Null Hypothesis (Ho): The average lifespan of the light bulbs is 1000 hours.\n",
        "#- Alternative Hypothesis (Ha): The average lifespan of the light bulbs is not 1000 hours."
      ]
    },
    {
      "cell_type": "code",
      "execution_count": null,
      "id": "cf79f61c",
      "metadata": {
        "id": "cf79f61c"
      },
      "outputs": [],
      "source": [
        "# Collect, Analyze the Data\n",
        "# Set the Significance Level (α) as 0.05\n",
        "\n",
        "import numpy as np\n",
        "from scipy import stats\n",
        "import matplotlib.pyplot as plt\n",
        "\n",
        "# Given data\n",
        "sample_mean = 980\n",
        "population_mean = 1000\n",
        "sample_std = 50\n",
        "sample_size = 25\n",
        "significance_level = 0.05 # alpha"
      ]
    },
    {
      "cell_type": "code",
      "execution_count": null,
      "id": "ce58840a",
      "metadata": {
        "id": "ce58840a"
      },
      "outputs": [],
      "source": [
        "# Generate a sample of lifespans - Create data with np.random.normal(loc=population_mean, scale=sample_std, size=sample_size)\n",
        "\n",
        "np.random.seed(42)  # for reproducibility\n",
        "sample_data = np.random.normal(loc=population_mean, scale=sample_std, size=sample_size)"
      ]
    },
    {
      "cell_type": "code",
      "execution_count": null,
      "id": "4974a297",
      "metadata": {
        "id": "4974a297"
      },
      "outputs": [],
      "source": [
        "# Perform one-sample t-test\n",
        "\n",
        "t_statistic, p_value = stats.ttest_1samp(sample_data, population_mean)"
      ]
    },
    {
      "cell_type": "code",
      "execution_count": null,
      "id": "922e1a92",
      "metadata": {
        "id": "922e1a92",
        "outputId": "be984b25-ce6e-4712-d05e-2c95c1122102"
      },
      "outputs": [
        {
          "name": "stdout",
          "output_type": "stream",
          "text": [
            "Calculated t-statistic: -0.8546732349237806\n",
            "P-value: 0.40118343292549585\n",
            "Fail to reject the null hypothesis\n"
          ]
        }
      ],
      "source": [
        "# Print the t-statistic and p-value, determine REJECT or FAIL TO REJECT null hypothesis\n",
        "\n",
        "print(f\"Calculated t-statistic: {t_statistic}\")\n",
        "print(f\"P-value: {p_value}\")\n",
        "\n",
        "if p_value/2 < significance_level:\n",
        "    print(\"Reject the null hypothesis\")\n",
        "else:\n",
        "    print(\"Fail to reject the null hypothesis\")"
      ]
    },
    {
      "cell_type": "code",
      "execution_count": null,
      "id": "cf8b2970",
      "metadata": {
        "id": "cf8b2970"
      },
      "outputs": [],
      "source": [
        "# Second way\n",
        "\n",
        "# State the Hypotheses:\n",
        "\n",
        "#- Null Hypothesis (Ho): The average lifespan of the light bulbs is 1000 hours.\n",
        "#- Alternative Hypothesis (Ha): The average lifespan of the light bulbs is not 1000 hours."
      ]
    },
    {
      "cell_type": "code",
      "execution_count": null,
      "id": "da9b5b09",
      "metadata": {
        "id": "da9b5b09"
      },
      "outputs": [],
      "source": [
        "# Collect, Analyze the Data\n",
        "# Set the Significance Level (α) as 0.05\n",
        "# Set the Degrees of freedom ()\n",
        "\n",
        "import numpy as np\n",
        "import matplotlib.pyplot as plt\n",
        "from scipy.stats import t\n",
        "\n",
        "# Given data\n",
        "sample_mean = 980\n",
        "population_mean = 1000\n",
        "sample_std = 50\n",
        "sample_size = 25\n",
        "\n",
        "# Significance Level (α)\n",
        "significance_level = 0.05  # alpha\n",
        "\n",
        "# Degrees of freedom\n",
        "df = sample_size - 1"
      ]
    },
    {
      "cell_type": "code",
      "execution_count": null,
      "id": "6000e449",
      "metadata": {
        "id": "6000e449",
        "outputId": "813acf13-0f43-4ab8-859a-02ecf4372826"
      },
      "outputs": [
        {
          "name": "stdout",
          "output_type": "stream",
          "text": [
            "t_statistic is: (-2.00000)\n",
            "t_statistic is: (-2.00000)\n"
          ]
        }
      ],
      "source": [
        "# Calculate the t-statistic\n",
        "\n",
        "t_statistic = (sample_mean - population_mean) / (sample_std / np.sqrt(sample_size))\n",
        "print(f\"t_statistic is: ({t_statistic:.5f})\")\n",
        "\n",
        "# Perform one-sample t-test (this is optional, just to show how it matches with ttest_1samp)\n",
        "t_statistic_scipy, _ = stats.ttest_1samp(np.random.normal(loc=population_mean, scale=sample_std, size=sample_size), population_mean)\n",
        "print(f\"t_statistic is: ({t_statistic:.5f})\")"
      ]
    },
    {
      "cell_type": "code",
      "execution_count": null,
      "id": "27636280",
      "metadata": {
        "id": "27636280",
        "outputId": "db5a7f8e-ce77-4d4f-fb5e-48964093f3fa"
      },
      "outputs": [
        {
          "data": {
            "text/plain": [
              "array([-2.06389856,  2.06389856])"
            ]
          },
          "execution_count": 57,
          "metadata": {},
          "output_type": "execute_result"
        }
      ],
      "source": [
        "# Calculate the critical t-values for a two-tailed test\n",
        "\n",
        "critical_t_values = t.ppf([significance_level / 2, 1 - significance_level / 2], df)\n",
        "critical_t_values"
      ]
    },
    {
      "cell_type": "code",
      "execution_count": null,
      "id": "95d61475",
      "metadata": {
        "id": "95d61475",
        "outputId": "fe59d14d-d3b6-44a0-e692-a7bca5450ce9"
      },
      "outputs": [
        {
          "name": "stdout",
          "output_type": "stream",
          "text": [
            "t_statistic is: (-0.85467)\n",
            "critical_t_value is: (2.06390)\n",
            "Fail to reject the null hypothesis\n"
          ]
        }
      ],
      "source": [
        "# Print t-statistic and critical t-value, determine REJECT or FAIL TO REJECT null hypothesis\n",
        "\n",
        "print(f\"t_statistic is: ({t_statistic:.5f})\")\n",
        "print(f\"critical_t_value is: ({critical_t_value:.5f})\")\n",
        "\n",
        "if np.abs(t_statistic) > critical_t_value:\n",
        "    print(\"Reject the null hypothesis\")\n",
        "else:\n",
        "    print(\"Fail to reject the null hypothesis\")"
      ]
    },
    {
      "cell_type": "code",
      "execution_count": null,
      "id": "035b9b35",
      "metadata": {
        "id": "035b9b35",
        "outputId": "c3159e64-8372-44ad-a648-e76f02b57add"
      },
      "outputs": [
        {
          "data": {
            "image/png": "[encoded data removed]",
            "text/plain": [
              "<Figure size 640x480 with 1 Axes>"
            ]
          },
          "metadata": {},
          "output_type": "display_data"
        }
      ],
      "source": [
        "# Additional\n",
        "\n",
        "# Generate x values for the t-distribution curve\n",
        "x = np.linspace(-4, 4, 1000)\n",
        "\n",
        "# Generate the t-distribution curve\n",
        "y = t.pdf(x, df)\n",
        "\n",
        "# Plot the t-distribution\n",
        "plt.plot(x, y, label='t-distribution')\n",
        "\n",
        "# Highlight the critical region\n",
        "plt.fill_between(x, y, where=((x < critical_t_values[0]) | (x > critical_t_values[1])), color='red', alpha=0.3, label='Critical Region')\n",
        "\n",
        "# Add vertical lines for critical t-values and calculated t-value\n",
        "plt.axvline(critical_t_values[0], color='blue', linestyle='--', label='Critical t-values')\n",
        "plt.axvline(critical_t_values[1], color='blue', linestyle='--')\n",
        "plt.axvline((sample_mean - population_mean) / (sample_std / np.sqrt(sample_size)), color='green', linestyle='--', label='Calculated t-value')\n",
        "\n",
        "# Add labels and legend\n",
        "plt.title('One-Sample t-Test')\n",
        "plt.xlabel('t-value')\n",
        "plt.ylabel('Probability Density')\n",
        "plt.legend()\n",
        "\n",
        "# Show the plot\n",
        "plt.show()"
      ]
    },
    {
      "cell_type": "markdown",
      "id": "33eb6881",
      "metadata": {
        "id": "33eb6881"
      },
      "source": [
        "The critical t-value and the p-value are both components of hypothesis testing, but they serve different purposes.\n",
        "\n",
        "**Critical t-Value:**\n",
        "\n",
        "- The critical t-value is a threshold value that defines the boundaries of the critical region in a t-distribution.\n",
        "- It is used in conjunction with the test statistic (calculated from the sample data) to determine whether to reject the null hypothesis.\n",
        "- If the absolute value of the calculated t-statistic exceeds the critical t-value, you would reject the null hypothesis.\n",
        "- The critical t-value is determined based on the desired significance level (α) and the degrees of freedom (df).\n",
        "\n",
        "**P-Value:**\n",
        "\n",
        "- The p-value is a probability associated with the observed data under the assumption that the null hypothesis is true.\n",
        "- It quantifies the evidence against the null hypothesis.\n",
        "- A small p-value (typically less than the chosen significance level, often 0.05) suggests that the observed data is unlikely to have occurred by random chance alone, leading to the rejection of the null hypothesis.\n",
        "- The p-value is not a threshold like the critical t-value; instead, it provides a continuous measure of evidence against the null hypothesis.\n",
        "\n",
        "In summary, the critical t-value is used to define the critical region, and the decision to reject the null hypothesis depends on whether the calculated t-statistic falls beyond this threshold. The p-value, on the other hand, provides a continuous measure of evidence, and a smaller p-value indicates stronger evidence against the null hypothesis. The choice between using critical values or p-values often depends on conventions in the field and the specific requirements of the analysis."
      ]
    },
    {
      "cell_type": "markdown",
      "id": "8caf28f5",
      "metadata": {
        "id": "8caf28f5"
      },
      "source": [
        "# Independent t-test:\n",
        "\n",
        "\n",
        "The independent samples t-test is a statistical test used to compare the means of two independent groups to determine if they are significantly different from each other. Here's a brief explanation:\n",
        "\n",
        "**Objective:**\n",
        "\n",
        "Assess whether the means of two independent groups are significantly different from each other.\n",
        "\n",
        "**Assumptions:**\n",
        "\n",
        "- The data in each group are independent and identically distributed.\n",
        "- The populations from which the samples are drawn are approximately normally distributed.\n",
        "- The variances of the two populations are approximately equal (homogeneity of variances).\n",
        "\n",
        "**Steps:**\n",
        "\n",
        "- **1. State Hypotheses:**\n",
        "\n",
        "    - Null Hypothesis (Ho) : The means of the two groups are equal (μ1 = μ2)\n",
        "    - Alternative Hypothesis (Ha): The means of the two groups are not equal.\n",
        "\n",
        "- **2.Collect Data:**\n",
        "\n",
        "    - Gather two independent samples from the two groups.\n",
        "\n",
        "- **3. Calculate the t-Statistic:**\n",
        "\n",
        "  Use the formula:\n",
        "\n",
        "![image.png](attachment:image.png)\n",
        "\n",
        "where x1_bar and x2_bar are the sample means, s1 and s2 are the sample standard deviations, and n1 and n2 are the sample sizes for the two groups.\n",
        "\n",
        "- **4. Determine Degrees of Freedom:**\n",
        "\n",
        "    - Degrees of freedom (df) depend on the sample sizes and variances of the two groups.\n",
        "\n",
        "- **5. Choose Significance Level (α):**\n",
        "\n",
        "    - Commonly chosen values are 0.05 or 0.01.\n",
        "\n",
        "- **6. Calculate Critical t-Values:**\n",
        "\n",
        "    - Use a t-table or statistical software to find the critical t-values based on the chosen significance level and degrees of freedom.\n",
        "\n",
        "- **7. Make Decision:**\n",
        "\n",
        "    - If the absolute value of the calculated t-statistic is greater than the critical t-value, reject the null hypothesis.\n",
        "    - If the p-value is less than the chosen significance level, reject the null hypothesis.\n",
        "\n",
        "- **8. Draw Conclusion:**\n",
        "\n",
        "    - Conclude whether there is enough evidence to reject the null hypothesis and accept the alternative hypothesis.\n",
        "\n",
        "The independent samples t-test is widely used to compare means of two groups, such as comparing the test scores of students in two different teaching methods or comparing the blood pressure levels between two different treatments."
      ]
    },
    {
      "cell_type": "markdown",
      "id": "f3035bf5",
      "metadata": {
        "id": "f3035bf5"
      },
      "source": [
        "## Question-1\n",
        "\n",
        "Compare the average scores of two independent groups of students, Group A and Group B, to see if there is a significant difference between them."
      ]
    },
    {
      "cell_type": "code",
      "execution_count": null,
      "id": "f8481ab7",
      "metadata": {
        "id": "f8481ab7"
      },
      "outputs": [],
      "source": [
        "# Example data\n",
        "\n",
        "group_a_scores = np.random.normal(72, 5, 30)\n",
        "group_b_scores = np.random.normal(75, 5, 30)"
      ]
    },
    {
      "cell_type": "code",
      "execution_count": null,
      "id": "5150c648",
      "metadata": {
        "id": "5150c648",
        "outputId": "1c7f9bc3-8170-44f9-e974-ef06bf140d1a"
      },
      "outputs": [
        {
          "name": "stdout",
          "output_type": "stream",
          "text": [
            "t_statistic is: (-3.58755)\n",
            "p_value is: (0.00069)\n"
          ]
        }
      ],
      "source": [
        "# Calculate the t-statistic and p_value\n",
        "\n",
        "t_statistic, p_value = stats.ttest_ind(group_a_scores, group_b_scores)\n",
        "\n",
        "print(f\"t_statistic is: ({t_statistic:.5f})\")\n",
        "print(f\"p_value is: ({p_value:.5f})\")"
      ]
    },
    {
      "cell_type": "code",
      "execution_count": null,
      "id": "5dd3fc41",
      "metadata": {
        "id": "5dd3fc41",
        "outputId": "863b07bb-f7ac-403d-bb4b-2df52a296718"
      },
      "outputs": [
        {
          "name": "stdout",
          "output_type": "stream",
          "text": [
            "Null hypothesis rejected. There is a significant difference between the two groups.\n"
          ]
        }
      ],
      "source": [
        "# Check for significance\n",
        "\n",
        "if p_value < significance_level:\n",
        "    print(\"Null hypothesis rejected. There is a significant difference between the two groups.\")\n",
        "else:\n",
        "    print(\"Null hypothesis not rejected. No significant difference observed.\")"
      ]
    },
    {
      "cell_type": "markdown",
      "id": "5f5abdc1",
      "metadata": {
        "id": "5f5abdc1"
      },
      "source": [
        "**Explanation:**\n",
        "\n",
        "- We use the ttest_ind function to perform an independent t-test on two groups.\n",
        "- The null hypothesis is that there is no significant difference between the group means.\n",
        "- The p-value is compared to the significance level to make a decision."
      ]
    },
    {
      "cell_type": "markdown",
      "id": "2a6c662f",
      "metadata": {
        "id": "2a6c662f"
      },
      "source": [
        "## Question-2\n",
        "\n",
        "consider a scenario where we want to compare the average scores of two groups of students who attended different tutoring programs for exam preparation to see if there is a significant difference between them."
      ]
    },
    {
      "cell_type": "markdown",
      "id": "30219c87",
      "metadata": {
        "id": "30219c87"
      },
      "source": [
        "Hypotheses:\n",
        "\n",
        "Null Hypothesis (Ho) : The mean exam scores of students who attended Program A are equal to the mean exam scores of students who attended Program B (μA = μB)\n",
        "\n",
        "Alternative Hypothesis (Ha : The mean exam scores of students who attended Program A are not equal to the mean exam scores of students who attended Program B (μA ≠ μB)"
      ]
    },
    {
      "cell_type": "code",
      "execution_count": null,
      "id": "587b710a",
      "metadata": {
        "id": "587b710a",
        "outputId": "9b6c4480-782f-4488-87f0-4f594f962095"
      },
      "outputs": [
        {
          "name": "stdout",
          "output_type": "stream",
          "text": [
            "tutoring_A_scores is: ([ 89.96714153  83.61735699  91.47688538 100.23029856  82.65846625\n",
            "  82.65863043 100.79212816  92.67434729  80.30525614  90.42560044\n",
            "  80.36582307  80.34270246  87.41962272  65.86719755  67.75082167\n",
            "  79.37712471  74.8716888   88.14247333  75.91975924  70.87696299\n",
            "  99.65648769  82.742237    85.67528205  70.75251814  79.55617275\n",
            "  86.1092259   73.49006423  88.75698018  78.9936131   82.0830625\n",
            "  78.98293388 103.52278185  84.86502775  74.42289071  93.22544912\n",
            "  72.7915635   87.08863595  65.40329876  71.71813951  86.96861236])\n",
            "\n",
            "\n",
            "tutoring_B_scores is: ([ 95.90773264  91.37094625  89.07481374  87.59117044  78.17182408\n",
            "  84.24124633  86.31488983  98.45697781  92.74894632  75.89567876\n",
            "  92.59267176  86.91934176  84.584624    94.89341031  98.24799618\n",
            "  97.45024095  83.28625981  87.52630099  92.65010745  97.80436102\n",
            "  86.1666061   88.51472819  81.14932021  80.43034701  96.50020658\n",
            " 100.84992023  89.42391903  98.02826318  92.8930882   84.83904196\n",
            "  92.89116484 102.30429253  89.71339169 102.51714925  69.04203917\n",
            "  96.57522004  90.69637655  87.6079412   90.73408621  74.09944868])\n"
          ]
        }
      ],
      "source": [
        "# Data Generation:\n",
        "\n",
        "# We generate simulated data for the exam scores of students in each program using a normal distribution.\n",
        "\n",
        "import numpy as np\n",
        "from scipy import stats\n",
        "\n",
        "# Set random seed for reproducibility\n",
        "np.random.seed(42)\n",
        "\n",
        "# Generate data for students who attended Tutoring Program A\n",
        "tutoring_A_scores = np.random.normal(loc=85, scale=10, size=40)\n",
        "print(f\"tutoring_A_scores is: ({tutoring_A_scores})\")\n",
        "\n",
        "print(\"\\n\")\n",
        "\n",
        "# Generate data for students who attended Tutoring Program B\n",
        "tutoring_B_scores = np.random.normal(loc=90, scale=8, size=40)\n",
        "print(f\"tutoring_B_scores is: ({tutoring_B_scores})\")"
      ]
    },
    {
      "cell_type": "code",
      "execution_count": null,
      "id": "2dde9eeb",
      "metadata": {
        "id": "2dde9eeb",
        "outputId": "4337b7b5-be5f-4608-af0b-1abdd74f99b7"
      },
      "outputs": [
        {
          "name": "stdout",
          "output_type": "stream",
          "text": [
            "t_statistic is: (-3.58681)\n",
            "p_value is: (0.00058)\n"
          ]
        }
      ],
      "source": [
        "# Perform Independent Samples t-Test:\n",
        "\n",
        "# We perform an independent samples t-test using stats.ttest_ind to compare the means of the two groups.\n",
        "\n",
        "t_statistic, p_value = stats.ttest_ind(tutoring_A_scores, tutoring_B_scores)\n",
        "print(f\"t_statistic is: ({t_statistic:.5f})\")\n",
        "print(f\"p_value is: ({p_value:.5f})\")"
      ]
    },
    {
      "cell_type": "code",
      "execution_count": null,
      "id": "735b7422",
      "metadata": {
        "id": "735b7422",
        "outputId": "b5a44d86-5ba4-4647-e911-290f9d127a2a"
      },
      "outputs": [
        {
          "name": "stdout",
          "output_type": "stream",
          "text": [
            "Mean Exam Score (Tutoring Program A): 82.8136316158206\n",
            "Mean Exam Score (Tutoring Program B): 89.76765228125649\n",
            "Calculated t-statistic: -3.586808563437622\n",
            "P-value: 0.0005819005108228038\n"
          ]
        }
      ],
      "source": [
        "# Display the results\n",
        "\n",
        "# We display the means of exam scores, the calculated t-statistic, and the p-value.\n",
        "\n",
        "print(f\"Mean Exam Score (Tutoring Program A): {np.mean(tutoring_A_scores)}\")\n",
        "print(f\"Mean Exam Score (Tutoring Program B): {np.mean(tutoring_B_scores)}\")\n",
        "print(f\"Calculated t-statistic: {t_statistic}\")\n",
        "print(f\"P-value: {p_value}\")"
      ]
    },
    {
      "cell_type": "code",
      "execution_count": null,
      "id": "d06ec49b",
      "metadata": {
        "id": "d06ec49b",
        "outputId": "8e53666b-76ab-4a99-f911-4b5d8a7b8606"
      },
      "outputs": [
        {
          "name": "stdout",
          "output_type": "stream",
          "text": [
            "Reject the null hypothesis: There is a significant difference in exam scores between Tutoring Program A and B.\n"
          ]
        }
      ],
      "source": [
        "# Decision Making:\n",
        "\n",
        "# We check if the p-value is less than the chosen significance level (e.g., 0.05).\n",
        "# If the p-value is less than 0.05, we reject the null hypothesis.\n",
        "\n",
        "if p_value < 0.05:\n",
        "    print(\"Reject the null hypothesis: There is a significant difference in exam scores between Tutoring Program A and B.\")\n",
        "else:\n",
        "    print(\"Fail to reject the null hypothesis: There is no significant difference in exam scores between Tutoring Program A and B.\")"
      ]
    },
    {
      "cell_type": "code",
      "execution_count": null,
      "id": "494daaa4",
      "metadata": {
        "id": "494daaa4"
      },
      "outputs": [],
      "source": [
        "# Interpretation:\n",
        "\n",
        "# If we reject the null hypothesis, we may conclude that there is a significant difference in exam scores between the two tutoring programs."
      ]
    },
    {
      "cell_type": "markdown",
      "id": "dd4691f3",
      "metadata": {
        "id": "dd4691f3"
      },
      "source": [
        "We perform an independent samples t-test to compare the means of the two groups. The null hypothesis is that there is no significant difference in the average exam scores between students who attended Tutoring Program A and those who attended Tutoring Program B.\n",
        "\n",
        "The results include the calculated t-statistic and the p-value. The decision to reject or fail to reject the null hypothesis is based on the p-value and the chosen significance level. If the p-value is below the significance level, we may conclude that there is a significant difference in exam scores between the two tutoring programs."
      ]
    },
    {
      "cell_type": "markdown",
      "id": "14c29b5a",
      "metadata": {
        "id": "14c29b5a"
      },
      "source": [
        "# Dependent t-test\n",
        "\n",
        "The dependent samples t-test, also known as a paired samples t-test, is a statistical test used to compare the means of two related groups. Here's a brief explanation:\n",
        "\n",
        "**Objective:**\n",
        "\n",
        "Assess whether there is a significant difference between the means of two related groups.\n",
        "\n",
        "**Key Points:**\n",
        "\n",
        "- **1. Dependent Groups:**\n",
        "\n",
        "    - The groups being compared are not independent; they are related or matched pairs. Each individual in one group is directly paired with an individual in the other group.\n",
        "\n",
        "- **2. Hypotheses:**\n",
        "\n",
        "    - Null Hypothesis (Ho): The mean difference between the paired observations is equal to zero (μd = 0)\n",
        "    - Alternative Hypothesis (Ha): The mean difference between the paired observations is not equal to zero (μd ≠ 0).\n",
        "\n",
        "- **3. Data Requirement:**\n",
        "\n",
        "    - Data is collected on the same subjects or items under different conditions, treatments, or time points.\n",
        "\n",
        "- **4. Calculation of Differences:**\n",
        "\n",
        "    - The test is based on the differences between the paired observations (e.g., before and after treatment, pre-test and post-test scores).\n",
        "\n",
        "- **5. Assumption:**\n",
        "\n",
        "    - The differences between pairs are assumed to be approximately normally distributed.\n",
        "\n",
        "- **6. Performing the Test:**\n",
        "\n",
        "    - The t-test is performed on the differences, and the test statistic and p-value are calculated.\n",
        "\n",
        "- **7. Decision Making:**\n",
        "\n",
        "    - If the p-value is less than the chosen significance level (e.g., 0.05), the null hypothesis is rejected.\n",
        "\n",
        "- **8. Interpretation:**\n",
        "\n",
        "    - Rejecting the null hypothesis indicates that there is a significant difference between the means of the related groups."
      ]
    },
    {
      "cell_type": "markdown",
      "id": "cfa1be35",
      "metadata": {
        "id": "cfa1be35"
      },
      "source": [
        "## Question-1\n",
        "\n",
        "Compare the scores of the same group of students before and after a training program to see if there is a significant improvement."
      ]
    },
    {
      "cell_type": "code",
      "execution_count": null,
      "id": "a4cd5295",
      "metadata": {
        "id": "a4cd5295"
      },
      "outputs": [],
      "source": [
        "# Example data\n",
        "\n",
        "before_scores = np.random.normal(72, 5, 30)\n",
        "after_scores = before_scores + np.random.normal(5, 2, 30)"
      ]
    },
    {
      "cell_type": "code",
      "execution_count": null,
      "id": "fc324a36",
      "metadata": {
        "id": "fc324a36",
        "outputId": "deb2db0d-e605-41f3-a066-37c67712627b"
      },
      "outputs": [
        {
          "name": "stdout",
          "output_type": "stream",
          "text": [
            "t_statistic is: (-12.30116)\n",
            "p_value is: (0.00000)\n"
          ]
        }
      ],
      "source": [
        "# Calculate the t-statistic and p_value\n",
        "\n",
        "t_statistic, p_value = stats.ttest_rel(before_scores, after_scores)\n",
        "print(f\"t_statistic is: ({t_statistic:.5f})\")\n",
        "print(f\"p_value is: ({p_value:.5f})\")"
      ]
    },
    {
      "cell_type": "code",
      "execution_count": null,
      "id": "c1f11a72",
      "metadata": {
        "id": "c1f11a72",
        "outputId": "047a6cd3-a9e5-42d8-b2eb-6bf4b85da902"
      },
      "outputs": [
        {
          "name": "stdout",
          "output_type": "stream",
          "text": [
            "Null hypothesis rejected. There is a significant improvement.\n"
          ]
        }
      ],
      "source": [
        "# Check for significance\n",
        "\n",
        "if p_value < significance_level:\n",
        "    print(\"Null hypothesis rejected. There is a significant improvement.\")\n",
        "else:\n",
        "    print(\"Null hypothesis not rejected. No significant improvement observed.\")"
      ]
    },
    {
      "cell_type": "markdown",
      "id": "a6d6610e",
      "metadata": {
        "id": "a6d6610e"
      },
      "source": [
        "**Explanation:**\n",
        "\n",
        "- We use the ttest_rel function to perform a dependent t-test on paired samples.\n",
        "- The null hypothesis is that there is no significant difference between the paired means.\n",
        "- The p-value is compared to the significance level for decision-making."
      ]
    },
    {
      "cell_type": "markdown",
      "id": "e7aea85a",
      "metadata": {
        "id": "e7aea85a"
      },
      "source": [
        "## Question-2\n",
        "\n",
        "A group of individuals participates in a lifestyle intervention program to improve their health, with a focus on reducing stress and improving overall well-being. We want to investigate if there is a statistically significant change in their blood pressure before and after the intervention."
      ]
    },
    {
      "cell_type": "markdown",
      "id": "f7e21f6f",
      "metadata": {
        "id": "f7e21f6f"
      },
      "source": [
        "Hypotheses:\n",
        "\n",
        "Null Hypothesis (Ho) : The mean difference in blood pressure before and after the intervention is zero (μdiff = 0)\n",
        "Alternative Hypothesis (Ha) : The mean difference in blood pressure before and after the intervention is not equal to zero (μdiff ≠ 0)"
      ]
    },
    {
      "cell_type": "code",
      "execution_count": null,
      "id": "cdb2f503",
      "metadata": {
        "id": "cdb2f503",
        "outputId": "8dc7c8f8-3baa-406c-d475-55403dade9b6"
      },
      "outputs": [
        {
          "name": "stdout",
          "output_type": "stream",
          "text": [
            "bp_before is: ([124.96714153 118.61735699 126.47688538 135.23029856 117.65846625\n",
            " 117.65863043 135.79212816 127.67434729 115.30525614 125.42560044\n",
            " 115.36582307 115.34270246 122.41962272 100.86719755 102.75082167\n",
            " 114.37712471 109.8716888  123.14247333 110.91975924 105.87696299\n",
            " 134.65648769 117.742237   120.67528205 105.75251814 114.55617275])\n",
            "\n",
            "\n",
            "bp_after is: ([120.85452225 104.40940837 124.48246953 125.42518904 110.32491625\n",
            " 107.84497753 145.61035363 122.56636949 101.84356871 127.00595973\n",
            " 100.59907387 112.01361122 101.74226172  85.24170916  99.32571156\n",
            " 115.28485735 106.24263505 117.21728707 103.51092968  89.04878706\n",
            " 123.89773402 109.05712683 124.13225986 103.50146445  95.45185151])\n"
          ]
        }
      ],
      "source": [
        "# Data Generation:\n",
        "\n",
        "import numpy as np\n",
        "from scipy import stats\n",
        "\n",
        "# Set random seed for reproducibility\n",
        "np.random.seed(42)\n",
        "\n",
        "# Generate data for blood pressure before the intervention\n",
        "bp_before = np.random.normal(loc=120, scale=10, size=25)\n",
        "print(f\"bp_before is: ({bp_before})\")\n",
        "\n",
        "print(\"\\n\")\n",
        "\n",
        "# Generate data for blood pressure after the intervention\n",
        "bp_after = bp_before + np.random.normal(loc=-5, scale=8, size=25)\n",
        "print(f\"bp_after is: ({bp_after})\")"
      ]
    },
    {
      "cell_type": "markdown",
      "id": "ff57c601",
      "metadata": {
        "id": "ff57c601"
      },
      "source": [
        "In this example, bp_before represents the blood pressure of individuals before the lifestyle intervention, and bp_after represents the blood pressure after the intervention. The blood pressure after the intervention is generated by adding a random normal distribution with a mean of -5 and a standard deviation of 8, simulating a potential reduction in blood pressure."
      ]
    },
    {
      "cell_type": "code",
      "execution_count": null,
      "id": "88fe1fcc",
      "metadata": {
        "id": "88fe1fcc"
      },
      "outputs": [],
      "source": [
        "# Perform dependent samples t-test\n",
        "\n",
        "t_statistic, p_value = stats.ttest_rel(bp_before, bp_after)"
      ]
    },
    {
      "cell_type": "code",
      "execution_count": null,
      "id": "e024cd2f",
      "metadata": {
        "id": "e024cd2f",
        "outputId": "2ef31c90-8622-478b-d91e-34757b890bb0"
      },
      "outputs": [
        {
          "name": "stdout",
          "output_type": "stream",
          "text": [
            "Mean Blood Pressure Before Intervention: 118.36491941341909\n",
            "Mean Blood Pressure After Intervention: 111.06540139858556\n",
            "Calculated t-statistic: -12.301162693821594\n",
            "P-value: 4.950029448552796e-13\n"
          ]
        }
      ],
      "source": [
        "# Display the results\n",
        "\n",
        "# We display the means, the calculated t-statistic, and the p-value.\n",
        "\n",
        "print(f\"Mean Blood Pressure Before Intervention: {np.mean(bp_before)}\")\n",
        "print(f\"Mean Blood Pressure After Intervention: {np.mean(bp_after)}\")\n",
        "print(f\"Calculated t-statistic: {t_statistic}\")\n",
        "print(f\"P-value: {p_value}\")"
      ]
    },
    {
      "cell_type": "code",
      "execution_count": null,
      "id": "49ec02d0",
      "metadata": {
        "id": "49ec02d0",
        "outputId": "e10a1d78-5bd0-46b1-989d-68265b33912f"
      },
      "outputs": [
        {
          "name": "stdout",
          "output_type": "stream",
          "text": [
            "Reject the null hypothesis: There is a significant change in blood pressure after the lifestyle intervention.\n"
          ]
        }
      ],
      "source": [
        "# Decision Making:\n",
        "\n",
        "# We check if the p-value is less than the chosen significance level (e.g., 0.05).\n",
        "# If the p-value is less than 0.05, we reject the null hypothesis.\n",
        "\n",
        "if p_value < 0.05:\n",
        "    print(\"Reject the null hypothesis: There is a significant change in blood pressure after the lifestyle intervention.\")\n",
        "else:\n",
        "    print(\"Fail to reject the null hypothesis: There is no significant change in blood pressure after the lifestyle intervention.\")"
      ]
    },
    {
      "cell_type": "markdown",
      "id": "a96d2d57",
      "metadata": {
        "id": "a96d2d57"
      },
      "source": [
        "**Interpretation:**\n",
        "\n",
        "- If the p-value is less than the chosen significance level (e.g., 0.05), we would reject the null hypothesis.\n",
        "- Rejecting the null hypothesis in this context would suggest that there is a statistically significant change in blood pressure after the lifestyle intervention.\n",
        "\n",
        "This example illustrates how a dependent samples t-test can be applied to assess the impact of a lifestyle intervention on a health-related outcome by comparing measurements taken before and after the intervention for the same individuals."
      ]
    },
    {
      "cell_type": "markdown",
      "id": "6f78a599",
      "metadata": {
        "id": "6f78a599"
      },
      "source": [
        "# One-way ANOVA\n",
        "\n",
        "One-way Analysis of Variance (ANOVA) is a statistical test used to determine if there are any statistically significant differences between the means of three or more independent (unrelated) groups. Here's a brief explanation:\n",
        "\n",
        "**Objective:**\n",
        "\n",
        "Assess whether there are any statistically significant differences in the means of three or more groups.\n",
        "\n",
        "**Key Points:**\n",
        "\n",
        "- **1. Groups:**\n",
        "\n",
        "    - The data is divided into three or more groups or categories.\n",
        "\n",
        "- **2. Hypotheses:**\n",
        "\n",
        "    - Null Hypothesis (Ho): The means of all groups are equal.\n",
        "    - Alternative Hypothesis (Ha) : At least one group mean is different from the others.\n",
        "\n",
        "- **3. Assumptions:**\n",
        "\n",
        "    - The data within each group is approximately normally distributed.\n",
        "    - Homogeneity of variances: The variances within each group are approximately equal.\n",
        "\n",
        "- **4. Variability:**\n",
        "\n",
        "    - ANOVA assesses the variability between group means compared to the variability within each group.\n",
        "\n",
        "- **5. Sum of Squares:**\n",
        "\n",
        "    - ANOVA calculates the sum of squares between groups and within groups.\n",
        "\n",
        "- **6. F-Statistic:**\n",
        "\n",
        "    - The F-statistic is calculated as the ratio of the variance between groups to the variance within groups.\n",
        "\n",
        "- **7. P-Value:**\n",
        "\n",
        "    - The p-value associated with the F-statistic is used to determine whether to reject the null hypothesis.\n",
        "\n",
        "- **8. Post Hoc Tests:**\n",
        "\n",
        "    - If ANOVA indicates significant differences, post hoc tests (e.g., Tukey's HSD) may be used to identify which groups differ from each other."
      ]
    },
    {
      "cell_type": "markdown",
      "id": "1e7bb42a",
      "metadata": {
        "id": "1e7bb42a"
      },
      "source": [
        "## Question-1\n",
        "\n",
        "Test whether there is a significant difference in the average scores among three or more groups."
      ]
    },
    {
      "cell_type": "code",
      "execution_count": null,
      "id": "5f5c9cc2",
      "metadata": {
        "id": "5f5c9cc2"
      },
      "outputs": [],
      "source": [
        "# Example data\n",
        "\n",
        "group_a_scores = np.random.normal(72, 5, 30)\n",
        "group_b_scores = np.random.normal(75, 5, 30)\n",
        "group_c_scores = np.random.normal(78, 5, 30)"
      ]
    },
    {
      "cell_type": "code",
      "execution_count": null,
      "id": "f2a42aa1",
      "metadata": {
        "id": "f2a42aa1",
        "outputId": "cc5ecad7-97ff-48ab-b311-540e891d8200"
      },
      "outputs": [
        {
          "name": "stdout",
          "output_type": "stream",
          "text": [
            "t_statistic is: (-16.09254)\n",
            "p_value is: (0.00000)\n"
          ]
        }
      ],
      "source": [
        "# Calculate the t-statistic and p_value\n",
        "\n",
        "f_statistic, p_value = stats.f_oneway(group_a_scores, group_b_scores, group_c_scores)\n",
        "print(f\"t_statistic is: ({t_statistic:.5f})\")\n",
        "print(f\"p_value is: ({p_value:.5f})\")"
      ]
    },
    {
      "cell_type": "code",
      "execution_count": null,
      "id": "95f50cdf",
      "metadata": {
        "id": "95f50cdf",
        "outputId": "3e419662-c28f-4258-ffd8-4391873b790d"
      },
      "outputs": [
        {
          "name": "stdout",
          "output_type": "stream",
          "text": [
            "Null hypothesis rejected. There is a significant difference among the groups.\n"
          ]
        }
      ],
      "source": [
        "# Check for significance\n",
        "\n",
        "if p_value < significance_level:\n",
        "    print(\"Null hypothesis rejected. There is a significant difference among the groups.\")\n",
        "else:\n",
        "    print(\"Null hypothesis not rejected. No significant difference observed.\")"
      ]
    },
    {
      "cell_type": "markdown",
      "id": "8b112258",
      "metadata": {
        "id": "8b112258"
      },
      "source": [
        "**Explanation:**\n",
        "\n",
        "- We use the f_oneway function to perform a one-way ANOVA.\n",
        "- The null hypothesis is that there is no significant difference among the group means.\n",
        "- The p-value is compared to the significance level for decision-making."
      ]
    },
    {
      "cell_type": "markdown",
      "id": "ec861abb",
      "metadata": {
        "id": "ec861abb"
      },
      "source": [
        "**Question-2:**\n",
        "\n",
        "A psychological experiment is conducted to measure the reaction times of participants exposed to different types of stimuli. The goal is to investigate if there are significant differences in reaction times across the three stimulus conditions."
      ]
    },
    {
      "cell_type": "markdown",
      "id": "4fcaf66f",
      "metadata": {
        "id": "4fcaf66f"
      },
      "source": [
        "**Hypotheses:**\n",
        "\n",
        "- Null Hypothesis (Ho) : The mean reaction times are equal across all stimulus conditions.\n",
        "- Alternative Hypothesis (Ha) : At least one group has a different mean reaction time."
      ]
    },
    {
      "cell_type": "code",
      "execution_count": null,
      "id": "f782a35f",
      "metadata": {
        "id": "f782a35f",
        "outputId": "b47dbeff-5b4a-4877-bb4c-d8bb4da60b39"
      },
      "outputs": [
        {
          "data": {
            "text/html": [
              "<div>\n",
              "<style scoped>\n",
              "    .dataframe tbody tr th:only-of-type {\n",
              "        vertical-align: middle;\n",
              "    }\n",
              "\n",
              "    .dataframe tbody tr th {\n",
              "        vertical-align: top;\n",
              "    }\n",
              "\n",
              "    .dataframe thead th {\n",
              "        text-align: right;\n",
              "    }\n",
              "</style>\n",
              "<table border=\"1\" class=\"dataframe\">\n",
              "  <thead>\n",
              "    <tr style=\"text-align: right;\">\n",
              "      <th></th>\n",
              "      <th>Visual</th>\n",
              "      <th>Auditory</th>\n",
              "      <th>Tactile</th>\n",
              "    </tr>\n",
              "  </thead>\n",
              "  <tbody>\n",
              "    <tr>\n",
              "      <th>0</th>\n",
              "      <td>209.934283</td>\n",
              "      <td>197.965868</td>\n",
              "      <td>210.416515</td>\n",
              "    </tr>\n",
              "    <tr>\n",
              "      <th>1</th>\n",
              "      <td>197.234714</td>\n",
              "      <td>247.045564</td>\n",
              "      <td>216.286820</td>\n",
              "    </tr>\n",
              "    <tr>\n",
              "      <th>2</th>\n",
              "      <td>212.953771</td>\n",
              "      <td>209.730056</td>\n",
              "      <td>197.873301</td>\n",
              "    </tr>\n",
              "    <tr>\n",
              "      <th>3</th>\n",
              "      <td>230.460597</td>\n",
              "      <td>188.845781</td>\n",
              "      <td>196.075868</td>\n",
              "    </tr>\n",
              "    <tr>\n",
              "      <th>4</th>\n",
              "      <td>195.316933</td>\n",
              "      <td>226.450898</td>\n",
              "      <td>236.250516</td>\n",
              "    </tr>\n",
              "    <tr>\n",
              "      <th>5</th>\n",
              "      <td>195.317261</td>\n",
              "      <td>185.583127</td>\n",
              "      <td>247.124801</td>\n",
              "    </tr>\n",
              "    <tr>\n",
              "      <th>6</th>\n",
              "      <td>231.584256</td>\n",
              "      <td>214.177272</td>\n",
              "      <td>218.559798</td>\n",
              "    </tr>\n",
              "    <tr>\n",
              "      <th>7</th>\n",
              "      <td>215.348695</td>\n",
              "      <td>170.806598</td>\n",
              "      <td>240.070658</td>\n",
              "    </tr>\n",
              "    <tr>\n",
              "      <th>8</th>\n",
              "      <td>190.610512</td>\n",
              "      <td>183.436279</td>\n",
              "      <td>227.232721</td>\n",
              "    </tr>\n",
              "    <tr>\n",
              "      <th>9</th>\n",
              "      <td>210.851201</td>\n",
              "      <td>213.937225</td>\n",
              "      <td>207.097605</td>\n",
              "    </tr>\n",
              "    <tr>\n",
              "      <th>10</th>\n",
              "      <td>190.731646</td>\n",
              "      <td>224.769332</td>\n",
              "      <td>227.227912</td>\n",
              "    </tr>\n",
              "    <tr>\n",
              "      <th>11</th>\n",
              "      <td>190.685405</td>\n",
              "      <td>213.427366</td>\n",
              "      <td>250.760731</td>\n",
              "    </tr>\n",
              "    <tr>\n",
              "      <th>12</th>\n",
              "      <td>204.839245</td>\n",
              "      <td>207.687034</td>\n",
              "      <td>219.283479</td>\n",
              "    </tr>\n",
              "    <tr>\n",
              "      <th>13</th>\n",
              "      <td>161.734395</td>\n",
              "      <td>203.977926</td>\n",
              "      <td>251.292873</td>\n",
              "    </tr>\n",
              "    <tr>\n",
              "      <th>14</th>\n",
              "      <td>165.501643</td>\n",
              "      <td>180.429560</td>\n",
              "      <td>167.605098</td>\n",
              "    </tr>\n",
              "    <tr>\n",
              "      <th>15</th>\n",
              "      <td>188.754249</td>\n",
              "      <td>195.603116</td>\n",
              "      <td>236.438050</td>\n",
              "    </tr>\n",
              "    <tr>\n",
              "      <th>16</th>\n",
              "      <td>179.743378</td>\n",
              "      <td>200.787225</td>\n",
              "      <td>221.740941</td>\n",
              "    </tr>\n",
              "    <tr>\n",
              "      <th>17</th>\n",
              "      <td>206.284947</td>\n",
              "      <td>231.142445</td>\n",
              "      <td>214.019853</td>\n",
              "    </tr>\n",
              "    <tr>\n",
              "      <th>18</th>\n",
              "      <td>181.839518</td>\n",
              "      <td>216.872366</td>\n",
              "      <td>221.835216</td>\n",
              "    </tr>\n",
              "    <tr>\n",
              "      <th>19</th>\n",
              "      <td>171.753926</td>\n",
              "      <td>174.739197</td>\n",
              "      <td>180.248622</td>\n",
              "    </tr>\n",
              "    <tr>\n",
              "      <th>20</th>\n",
              "      <td>229.312975</td>\n",
              "      <td>216.481679</td>\n",
              "      <td>215.606562</td>\n",
              "    </tr>\n",
              "    <tr>\n",
              "      <th>21</th>\n",
              "      <td>195.484474</td>\n",
              "      <td>202.298354</td>\n",
              "      <td>227.142251</td>\n",
              "    </tr>\n",
              "    <tr>\n",
              "      <th>22</th>\n",
              "      <td>201.350564</td>\n",
              "      <td>196.461560</td>\n",
              "      <td>249.557881</td>\n",
              "    </tr>\n",
              "    <tr>\n",
              "      <th>23</th>\n",
              "      <td>171.505036</td>\n",
              "      <td>222.233526</td>\n",
              "      <td>209.634596</td>\n",
              "    </tr>\n",
              "    <tr>\n",
              "      <th>24</th>\n",
              "      <td>189.112346</td>\n",
              "      <td>230.619990</td>\n",
              "      <td>203.830128</td>\n",
              "    </tr>\n",
              "    <tr>\n",
              "      <th>25</th>\n",
              "      <td>202.218452</td>\n",
              "      <td>228.625602</td>\n",
              "      <td>209.964859</td>\n",
              "    </tr>\n",
              "    <tr>\n",
              "      <th>26</th>\n",
              "      <td>176.980128</td>\n",
              "      <td>193.215650</td>\n",
              "      <td>238.308042</td>\n",
              "    </tr>\n",
              "    <tr>\n",
              "      <th>27</th>\n",
              "      <td>207.513960</td>\n",
              "      <td>203.815752</td>\n",
              "      <td>226.575022</td>\n",
              "    </tr>\n",
              "    <tr>\n",
              "      <th>28</th>\n",
              "      <td>187.987226</td>\n",
              "      <td>216.625269</td>\n",
              "      <td>209.404796</td>\n",
              "    </tr>\n",
              "    <tr>\n",
              "      <th>29</th>\n",
              "      <td>194.166125</td>\n",
              "      <td>229.510903</td>\n",
              "      <td>230.265349</td>\n",
              "    </tr>\n",
              "  </tbody>\n",
              "</table>\n",
              "</div>"
            ],
            "text/plain": [
              "        Visual    Auditory     Tactile\n",
              "0   209.934283  197.965868  210.416515\n",
              "1   197.234714  247.045564  216.286820\n",
              "2   212.953771  209.730056  197.873301\n",
              "3   230.460597  188.845781  196.075868\n",
              "4   195.316933  226.450898  236.250516\n",
              "5   195.317261  185.583127  247.124801\n",
              "6   231.584256  214.177272  218.559798\n",
              "7   215.348695  170.806598  240.070658\n",
              "8   190.610512  183.436279  227.232721\n",
              "9   210.851201  213.937225  207.097605\n",
              "10  190.731646  224.769332  227.227912\n",
              "11  190.685405  213.427366  250.760731\n",
              "12  204.839245  207.687034  219.283479\n",
              "13  161.734395  203.977926  251.292873\n",
              "14  165.501643  180.429560  167.605098\n",
              "15  188.754249  195.603116  236.438050\n",
              "16  179.743378  200.787225  221.740941\n",
              "17  206.284947  231.142445  214.019853\n",
              "18  181.839518  216.872366  221.835216\n",
              "19  171.753926  174.739197  180.248622\n",
              "20  229.312975  216.481679  215.606562\n",
              "21  195.484474  202.298354  227.142251\n",
              "22  201.350564  196.461560  249.557881\n",
              "23  171.505036  222.233526  209.634596\n",
              "24  189.112346  230.619990  203.830128\n",
              "25  202.218452  228.625602  209.964859\n",
              "26  176.980128  193.215650  238.308042\n",
              "27  207.513960  203.815752  226.575022\n",
              "28  187.987226  216.625269  209.404796\n",
              "29  194.166125  229.510903  230.265349"
            ]
          },
          "execution_count": 82,
          "metadata": {},
          "output_type": "execute_result"
        }
      ],
      "source": [
        "# Data Generation:\n",
        "\n",
        "import numpy as np\n",
        "import pandas as pd\n",
        "from scipy import stats\n",
        "\n",
        "# Set random seed for reproducibility\n",
        "np.random.seed(42)\n",
        "\n",
        "# Generate data for three groups (stimulus conditions)\n",
        "stimuli_types = ['Visual', 'Auditory', 'Tactile']\n",
        "\n",
        "# Generate simulated reaction time data for each group\n",
        "reaction_times = {\n",
        "    'Visual': np.random.normal(loc=200, scale=20, size=30),\n",
        "    'Auditory': np.random.normal(loc=210, scale=20, size=30),\n",
        "    'Tactile': np.random.normal(loc=220, scale=20, size=30)\n",
        "}\n",
        "\n",
        "# Combine data into a DataFrame\n",
        "data = pd.DataFrame({stimulus: rt for stimulus, rt in reaction_times.items()})\n",
        "data"
      ]
    },
    {
      "cell_type": "code",
      "execution_count": null,
      "id": "f7b9ff5a",
      "metadata": {
        "id": "f7b9ff5a"
      },
      "outputs": [],
      "source": [
        "# Perform one-way ANOVA\n",
        "\n",
        "f_statistic, p_value = stats.f_oneway(data['Visual'], data['Auditory'], data['Tactile'])"
      ]
    },
    {
      "cell_type": "code",
      "execution_count": null,
      "id": "e793d0a1",
      "metadata": {
        "id": "e793d0a1",
        "outputId": "1b7dff67-96ff-4eef-c3fd-b25129dc8c29"
      },
      "outputs": [
        {
          "data": {
            "text/plain": [
              "{'Visual': array([209.93428306, 197.23471398, 212.95377076, 230.46059713,\n",
              "        195.31693251, 195.31726086, 231.58425631, 215.34869458,\n",
              "        190.61051228, 210.85120087, 190.73164614, 190.68540493,\n",
              "        204.83924543, 161.73439511, 165.50164335, 188.75424942,\n",
              "        179.74337759, 206.28494665, 181.83951849, 171.75392597,\n",
              "        229.31297538, 195.48447399, 201.35056409, 171.50503628,\n",
              "        189.11234551, 202.21845179, 176.98012845, 207.51396037,\n",
              "        187.9872262 , 194.166125  ]),\n",
              " 'Auditory': array([197.96586776, 247.04556369, 209.73005551, 188.84578142,\n",
              "        226.45089824, 185.583127  , 214.1772719 , 170.80659752,\n",
              "        183.43627902, 213.93722472, 224.7693316 , 213.42736562,\n",
              "        207.68703435, 203.97792609, 180.42956019, 195.60311583,\n",
              "        200.78722458, 231.14244452, 216.87236579, 174.73919689,\n",
              "        216.48167939, 202.29835439, 196.46155999, 222.23352578,\n",
              "        230.61999045, 228.62560238, 193.21564954, 203.81575248,\n",
              "        216.62526863, 229.51090254]),\n",
              " 'Tactile': array([210.41651524, 216.28682047, 197.87330052, 196.07586752,\n",
              "        236.25051645, 247.12480057, 218.55979757, 240.07065796,\n",
              "        227.2327205 , 207.09760491, 227.22791211, 250.76073133,\n",
              "        219.28347922, 251.29287312, 167.60509792, 236.43805009,\n",
              "        221.74094136, 214.01985299, 221.83521553, 180.24862171,\n",
              "        215.60656224, 227.14225143, 249.55788089, 209.63459563,\n",
              "        203.83012794, 209.96485913, 238.30804235, 226.57502219,\n",
              "        209.40479592, 230.26534866])}"
            ]
          },
          "execution_count": 76,
          "metadata": {},
          "output_type": "execute_result"
        }
      ],
      "source": [
        "reaction_times"
      ]
    },
    {
      "cell_type": "code",
      "execution_count": null,
      "id": "058ec83b",
      "metadata": {
        "id": "058ec83b",
        "outputId": "f5a94576-6ae9-4961-a0e1-5cab9f484add"
      },
      "outputs": [
        {
          "name": "stdout",
          "output_type": "stream",
          "text": [
            "Mean Reaction Time (Visual): 196.23706208297924\n",
            "Mean Reaction Time (Auditory): 207.57675059420117\n",
            "Mean Reaction Time (Tactile): 220.25769544944444\n",
            "F-statistic: 12.20952551797281\n",
            "P-value: 2.1200748140507065e-05\n"
          ]
        }
      ],
      "source": [
        "# Display the results\n",
        "\n",
        "print(f\"Mean Reaction Time (Visual): {np.mean(data['Visual'])}\")\n",
        "print(f\"Mean Reaction Time (Auditory): {np.mean(data['Auditory'])}\")\n",
        "print(f\"Mean Reaction Time (Tactile): {np.mean(data['Tactile'])}\")\n",
        "print(f\"F-statistic: {f_statistic}\")\n",
        "print(f\"P-value: {p_value}\")"
      ]
    },
    {
      "cell_type": "code",
      "execution_count": null,
      "id": "87314583",
      "metadata": {
        "id": "87314583",
        "outputId": "ad0c42c1-aeae-4f36-f410-cf338b447e68"
      },
      "outputs": [
        {
          "name": "stdout",
          "output_type": "stream",
          "text": [
            "Reject the null hypothesis: There are significant differences in mean reaction times across stimulus conditions.\n"
          ]
        }
      ],
      "source": [
        "# Check if the p-value is less than the significance level (e.g., 0.05)\n",
        "\n",
        "if p_value < 0.05:\n",
        "    print(\"Reject the null hypothesis: There are significant differences in mean reaction times across stimulus conditions.\")\n",
        "else:\n",
        "    print(\"Fail to reject the null hypothesis: There are no significant differences in mean reaction times across stimulus conditions.\")"
      ]
    },
    {
      "cell_type": "markdown",
      "id": "44ece6af",
      "metadata": {
        "id": "44ece6af"
      },
      "source": [
        "**Interpretation:**\n",
        "\n",
        "- If the p-value is less than the chosen significance level (e.g., 0.05), we would reject the null hypothesis.\n",
        "- Rejecting the null hypothesis in this context would suggest that there are significant differences in mean reaction times across the visual, auditory, and tactile stimulus conditions."
      ]
    },
    {
      "cell_type": "markdown",
      "id": "a429a81c",
      "metadata": {
        "id": "a429a81c"
      },
      "source": [
        "# Chi-square Test for Categorical Variables:\n",
        "\n",
        "The chi-square test is a statistical test used to determine if there's a significant association between two categorical variables.\n",
        "\n",
        "**Key Points:**\n",
        "\n",
        "- **1. Null Hypothesis (Ho):**\n",
        "    - Assumes no association between the variables.\n",
        "\n",
        "- **2. Alternative Hypothesis (Ha):**\n",
        "    - Assumes an association between the variables.\n",
        "\n",
        "- **3. Test Statistic:**\n",
        "    - The chi-square test calculates a test statistic based on the differences between the observed and expected frequencies in a contingency table.\n",
        "\n",
        "- **4. Contingency Table:**\n",
        "    - A table that shows the distribution of frequencies across categories for each variable. It helps compare observed and expected values.\n",
        "\n",
        "- **5. Degrees of Freedom:**\n",
        "    - The degrees of freedom depend on the number of categories in the variables being analyzed.\n",
        "\n",
        "- **6. P-Value:**\n",
        "    - The chi-square test produces a p-value. If it's below a chosen significance level (e.g., 0.05), you reject the null hypothesis, suggesting evidence of an association.\n",
        "\n",
        "In essence, the chi-square test helps you determine if the observed distribution of categorical data differs from what you would expect by chance, providing insights into the relationship between variables.\n"
      ]
    },
    {
      "cell_type": "markdown",
      "id": "1d78e5e0",
      "metadata": {
        "id": "1d78e5e0"
      },
      "source": [
        "## Question\n",
        "\n",
        "Test whether there is a significant association between gender (male/female) and the preference for a particular subject (Math, English, Science)."
      ]
    },
    {
      "cell_type": "code",
      "execution_count": null,
      "id": "fcb51a5e",
      "metadata": {
        "id": "fcb51a5e"
      },
      "outputs": [],
      "source": [
        "# Example data\n",
        "\n",
        "observed_data = np.array([[30, 20, 10], [25, 25, 20]])  # Example contingency table"
      ]
    },
    {
      "cell_type": "code",
      "execution_count": null,
      "id": "a4cb8aaf",
      "metadata": {
        "id": "a4cb8aaf",
        "outputId": "b64d3d8e-3f99-43f6-dffd-6b72c5a13458"
      },
      "outputs": [
        {
          "name": "stdout",
          "output_type": "stream",
          "text": [
            "chi2_stat is: (3.59548)\n",
            "p_value is: (0.16567)\n"
          ]
        }
      ],
      "source": [
        "# Calculate the chi2-statistic and p_value\n",
        "\n",
        "chi2_stat, p_value, dof, expected = stats.chi2_contingency(observed_data)\n",
        "print(f\"chi2_stat is: ({chi2_stat:.5f})\")\n",
        "print(f\"p_value is: ({p_value:.5f})\")"
      ]
    },
    {
      "cell_type": "code",
      "execution_count": null,
      "id": "019816d7",
      "metadata": {
        "id": "019816d7",
        "outputId": "3e5fd1e6-9f8b-4232-b3db-98f46f4b9cc8"
      },
      "outputs": [
        {
          "name": "stdout",
          "output_type": "stream",
          "text": [
            "Null hypothesis not rejected. No significant association observed.\n"
          ]
        }
      ],
      "source": [
        "# Check if the p-value is less than the significance level (e.g., 0.05)\n",
        "\n",
        "if p_value < significance_level:\n",
        "    print(\"Null hypothesis rejected. There is a significant association between gender and subject preference.\")\n",
        "else:\n",
        "    print(\"Null hypothesis not rejected. No significant association observed.\")"
      ]
    },
    {
      "cell_type": "markdown",
      "id": "38891ac6",
      "metadata": {
        "id": "38891ac6"
      },
      "source": [
        "**Explanation:**\n",
        "\n",
        "- We use the chi2_contingency function to perform a chi-square test for independence.\n",
        "- The null hypothesis is that there is no association between the two categorical variables.\n",
        "- The p-value is compared to the significance level for decision-making."
      ]
    },
    {
      "cell_type": "markdown",
      "id": "b613a51b",
      "metadata": {
        "id": "b613a51b"
      },
      "source": [
        "___\n",
        "\n",
        "<a href=\"https://lms.clarusway.com/mod/lesson/view.php?id=8511&pageid=8142&startlastseen=no\"><img align=\"left\" src=\"https://i.ibb.co/6Z5pQxD/lmss.png\" alt=\"Open in Clarusway LMS\" width=\"70\" height=\"200\" title=\"Open Clarusway Learning Management Sytem\"></a>\n",
        "\n",
        "<a href=\"\"><img align=\"right\" src=\"https://i.ibb.co/n3HWyQX/github-logo.png\" alt=\"Open in Clarusway GitHub\" width=\"100\" height=\"150\" title=\"Open and Execute in Clarusway GitHub Repository\"></a>\n",
        "\n",
        "<p style=\"text-align: center;\"><img src=\"https://docs.google.com/uc?id=1lY0Uj5R04yMY3-ZppPWxqCr5pvBLYPnV\" class=\"img-fluid\"\n",
        "alt=\"CLRSWY\"></p>\n",
        "\n",
        "## <p style=\"background-color:#FDFEFE; font-family:newtimeroman; color:#9d4f8c; font-size:100%; text-align:center; border-radius:10px 10px;\">WAY TO REINVENT YOURSELF</p>"
      ]
    }
  ],
  "metadata": {
    "kernelspec": {
      "display_name": "Python 3 (ipykernel)",
      "language": "python",
      "name": "python3"
    },
    "language_info": {
      "codemirror_mode": {
        "name": "ipython",
        "version": 3
      },
      "file_extension": ".py",
      "mimetype": "text/x-python",
      "name": "python",
      "nbconvert_exporter": "python",
      "pygments_lexer": "ipython3",
      "version": "3.9.17"
    },
    "colab": {
      "provenance": []
    }
  },
  "nbformat": 4,
  "nbformat_minor": 5
}